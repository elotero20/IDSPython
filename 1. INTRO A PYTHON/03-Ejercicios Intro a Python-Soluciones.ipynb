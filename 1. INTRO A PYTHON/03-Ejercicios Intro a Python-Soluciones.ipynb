{
 "cells": [
  {
   "cell_type": "markdown",
   "metadata": {},
   "source": [
    "___\n",
    "<img src='../devf-logo.jpg' />"
   ]
  },
  {
   "cell_type": "markdown",
   "metadata": {},
   "source": [
    "___\n",
    "# EJERCICIOS DE INTRODUCCIÓN A PYTHON\n"
   ]
  },
  {
   "cell_type": "markdown",
   "metadata": {},
   "source": [
    "## Ejercicios\n",
    "\n",
    "Contesta las siguientes preguntas. Usa los métodos específicos cuando se indique. ¡Suerte!"
   ]
  },
  {
   "cell_type": "markdown",
   "metadata": {},
   "source": [
    "**¿Cuánto es 5 elevado a la sexta potencia?**"
   ]
  },
  {
   "cell_type": "code",
   "execution_count": 1,
   "metadata": {},
   "outputs": [
    {
     "data": {
      "text/plain": [
       "15625"
      ]
     },
     "execution_count": 1,
     "metadata": {},
     "output_type": "execute_result"
    }
   ],
   "source": [
    "5**6"
   ]
  },
  {
   "cell_type": "markdown",
   "metadata": {},
   "source": [
    "**Separa la siguiente oración en una lista:**\n",
    "\n",
    "    s = \"Estoy estudiando ciencia de datos\""
   ]
  },
  {
   "cell_type": "code",
   "execution_count": 2,
   "metadata": {},
   "outputs": [],
   "source": [
    "s = \"Estoy estudiando ciencia de datos\""
   ]
  },
  {
   "cell_type": "code",
   "execution_count": 3,
   "metadata": {},
   "outputs": [
    {
     "data": {
      "text/plain": [
       "['Estoy', 'estudiando', 'ciencia', 'de', 'datos']"
      ]
     },
     "execution_count": 3,
     "metadata": {},
     "output_type": "execute_result"
    }
   ],
   "source": [
    "s.split()"
   ]
  },
  {
   "cell_type": "markdown",
   "metadata": {},
   "source": [
    "**Dadas las siguientes variables:**\n",
    "\n",
    "    planeta = \"Tierra\"\n",
    "    diametro = 12742\n",
    "\n",
    "**Usa .format() para imprimir la siguiente oración: **\n",
    "\n",
    "    El diametro de la Tierra es 12742 kilometros"
   ]
  },
  {
   "cell_type": "code",
   "execution_count": 4,
   "metadata": {},
   "outputs": [],
   "source": [
    "planeta = \"Tierra\"\n",
    "diametro = 12742"
   ]
  },
  {
   "cell_type": "code",
   "execution_count": 5,
   "metadata": {},
   "outputs": [
    {
     "name": "stdout",
     "output_type": "stream",
     "text": [
      "El diametro de la Tierra es 12742 kilometros\n"
     ]
    }
   ],
   "source": [
    "print(\"El diametro de la {} es {} kilometros\".format(planeta,diametro))"
   ]
  },
  {
   "cell_type": "markdown",
   "metadata": {},
   "source": [
    "**Dada la siguiente lista, usa comprensión de listas para tomar la palabra 'objetivo'**"
   ]
  },
  {
   "cell_type": "code",
   "execution_count": 6,
   "metadata": {},
   "outputs": [],
   "source": [
    "lst = [10,20,[42,33,[83]],[89,['hola','adios'],[100,200,['objetivo']],23,11],1,7]"
   ]
  },
  {
   "cell_type": "code",
   "execution_count": 7,
   "metadata": {},
   "outputs": [
    {
     "data": {
      "text/plain": [
       "['objetivo']"
      ]
     },
     "execution_count": 7,
     "metadata": {},
     "output_type": "execute_result"
    }
   ],
   "source": [
    "lst[3][2][2]"
   ]
  },
  {
   "cell_type": "markdown",
   "metadata": {},
   "source": [
    "**Dado el siguiente diccionario anidado, toma la palabra 'hola'**"
   ]
  },
  {
   "cell_type": "code",
   "execution_count": 8,
   "metadata": {},
   "outputs": [],
   "source": [
    "d = {'k1':[1,2,3,{'devf':['soy','cientifico','de',{'datos':[1,2,3,'hola']}]}]}"
   ]
  },
  {
   "cell_type": "code",
   "execution_count": 9,
   "metadata": {},
   "outputs": [
    {
     "data": {
      "text/plain": [
       "'hola'"
      ]
     },
     "execution_count": 9,
     "metadata": {},
     "output_type": "execute_result"
    }
   ],
   "source": [
    "d['k1'][3]['devf'][3]['datos'][3]"
   ]
  },
  {
   "cell_type": "markdown",
   "metadata": {},
   "source": [
    "**¿Cuál es la principal diferencia entre un tuple y una lista?**"
   ]
  },
  {
   "cell_type": "code",
   "execution_count": 10,
   "metadata": {},
   "outputs": [],
   "source": [
    "# Los tuples no se pueden modificar"
   ]
  },
  {
   "cell_type": "markdown",
   "metadata": {},
   "source": [
    "**Crea una función que tome el dominio de una dirección de correo electrónico**\n",
    "\n",
    "    holar@dominio.com\n",
    "    \n",
    "**Por ejemplo, pasando \"hola@dominio.com\" debe regresarte dominio.com**"
   ]
  },
  {
   "cell_type": "code",
   "execution_count": 11,
   "metadata": {},
   "outputs": [],
   "source": [
    "def sacarDominio(email):\n",
    "    print(email.split('@')[1])"
   ]
  },
  {
   "cell_type": "code",
   "execution_count": 12,
   "metadata": {},
   "outputs": [
    {
     "name": "stdout",
     "output_type": "stream",
     "text": [
      "dominio.com\n"
     ]
    }
   ],
   "source": [
    "sacarDominio('hola@dominio.com')"
   ]
  },
  {
   "cell_type": "markdown",
   "metadata": {},
   "source": [
    "**Crea una función básica que arroje True si la palabra perro se encuentra en una oración.**"
   ]
  },
  {
   "cell_type": "code",
   "execution_count": 13,
   "metadata": {},
   "outputs": [],
   "source": [
    "def encontrarPerro(string):\n",
    "    return 'perro' in string"
   ]
  },
  {
   "cell_type": "code",
   "execution_count": 14,
   "metadata": {},
   "outputs": [
    {
     "data": {
      "text/plain": [
       "True"
      ]
     },
     "execution_count": 14,
     "metadata": {},
     "output_type": "execute_result"
    }
   ],
   "source": [
    "encontrarPerro('¿Hay un perro en esta oración?')"
   ]
  },
  {
   "cell_type": "markdown",
   "metadata": {},
   "source": [
    "**Crea una función que cuente el número de veces que la palabra \"perro\" aparece en una oración**"
   ]
  },
  {
   "cell_type": "code",
   "execution_count": 15,
   "metadata": {},
   "outputs": [],
   "source": [
    "def contarPerro(string):\n",
    "    lista =string.split(' ')\n",
    "    resultado = 0\n",
    "    for item in lista:\n",
    "        if item == 'perro':\n",
    "            resultado = resultado +1\n",
    "    return resultado"
   ]
  },
  {
   "cell_type": "code",
   "execution_count": 16,
   "metadata": {},
   "outputs": [
    {
     "data": {
      "text/plain": [
       "2"
      ]
     },
     "execution_count": 16,
     "metadata": {},
     "output_type": "execute_result"
    }
   ],
   "source": [
    "contarPerro('Este perro corre más rápido que aquél perro')"
   ]
  },
  {
   "cell_type": "markdown",
   "metadata": {},
   "source": [
    "**Usa expresiones lambda y la función filter() para filtrar las palabras que no empiecen con la letra 's'. Por ejemplo:**\n",
    "\n",
    "    seq = ['sushi','perro','soriana','gato','bueno']\n",
    "\n",
    "**deberá terminar como:**\n",
    "\n",
    "    ['sushi','soriana']"
   ]
  },
  {
   "cell_type": "code",
   "execution_count": 17,
   "metadata": {},
   "outputs": [],
   "source": [
    "seq = ['sushi','perro','soriana','gato','bueno']"
   ]
  },
  {
   "cell_type": "code",
   "execution_count": 18,
   "metadata": {},
   "outputs": [
    {
     "data": {
      "text/plain": [
       "['sushi', 'soriana']"
      ]
     },
     "execution_count": 18,
     "metadata": {},
     "output_type": "execute_result"
    }
   ],
   "source": [
    "list(filter(lambda word: word[0]=='s',seq))"
   ]
  },
  {
   "cell_type": "markdown",
   "metadata": {},
   "source": [
    "### Problema final\n",
    "  **Vas manejando muy rápido y un policía te detiene. Escribe una función con tres posibles resultados \"Sin multa\", \"Multa pequeña\", o \"Multa grande\". Si tu velocidad es 60 o menos, el resultado es \"Sin multa\". Si tu velocidad está entre 61 y 80 el resultado es \"Multa pequeña\" y si tu velocidad es 81 o más, el resultado debe ser \"Multa grande\". A menos que sea tu cumpleaños (codificado como un valor boolean en los parámetros de la función) -- en tu cumpleaños, tu velocidad puede ser 5 puntos más alta en todos los casos\"**"
   ]
  },
  {
   "cell_type": "code",
   "execution_count": 19,
   "metadata": {},
   "outputs": [],
   "source": [
    "def detenido(velocidad, es_tu_cumpleaños):\n",
    "    \n",
    "    if es_tu_cumpleaños:\n",
    "        decision = velocidad - 5\n",
    "    else:\n",
    "        decision = velocidad\n",
    "    \n",
    "    if decision > 80:\n",
    "        return 'Multa grande'\n",
    "    elif decision > 60:\n",
    "        return 'Multa pequeña'\n",
    "    else:\n",
    "        return 'Sin multa'"
   ]
  },
  {
   "cell_type": "code",
   "execution_count": 20,
   "metadata": {},
   "outputs": [
    {
     "name": "stdout",
     "output_type": "stream",
     "text": [
      "Multa pequeña\n"
     ]
    }
   ],
   "source": [
    "detenido(81,True)"
   ]
  },
  {
   "cell_type": "code",
   "execution_count": 21,
   "metadata": {},
   "outputs": [
    {
     "name": "stdout",
     "output_type": "stream",
     "text": [
      "Multa grande\n"
     ]
    }
   ],
   "source": [
    "detenido(81,False)"
   ]
  },
  {
   "cell_type": "markdown",
   "metadata": {},
   "source": [
    "# ¡Excelente trabajo!"
   ]
  }
 ],
 "metadata": {
  "kernelspec": {
   "display_name": "Python 3",
   "language": "python",
   "name": "python3"
  },
  "language_info": {
   "codemirror_mode": {
    "name": "ipython",
    "version": 3
   },
   "file_extension": ".py",
   "mimetype": "text/x-python",
   "name": "python",
   "nbconvert_exporter": "python",
   "pygments_lexer": "ipython3",
   "version": "3.7.3"
  }
 },
 "nbformat": 4,
 "nbformat_minor": 1
}
